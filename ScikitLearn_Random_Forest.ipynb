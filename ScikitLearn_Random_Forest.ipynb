{
  "nbformat": 4,
  "nbformat_minor": 0,
  "metadata": {
    "colab": {
      "name": "ScikitLearn_Random_Forest.ipynb",
      "provenance": [],
      "collapsed_sections": [],
      "authorship_tag": "ABX9TyPwS6a/h/6p0ZVbxgFLRSgw",
      "include_colab_link": true
    },
    "kernelspec": {
      "name": "python3",
      "display_name": "Python 3"
    },
    "language_info": {
      "name": "python"
    }
  },
  "cells": [
    {
      "cell_type": "markdown",
      "metadata": {
        "id": "view-in-github",
        "colab_type": "text"
      },
      "source": [
        "<a href=\"https://colab.research.google.com/github/sbehmanesh/DecisionTree_AI/blob/main/ScikitLearn_Random_Forest.ipynb\" target=\"_parent\"><img src=\"https://colab.research.google.com/assets/colab-badge.svg\" alt=\"Open In Colab\"/></a>"
      ]
    },
    {
      "cell_type": "markdown",
      "metadata": {
        "id": "BsJgS0q6OFS_"
      },
      "source": [
        "ابتدا داده ها را بارگذاری می نماییم و به داده های تست و آموزش تقسیم می کنیم"
      ]
    },
    {
      "cell_type": "code",
      "metadata": {
        "colab": {
          "base_uri": "https://localhost:8080/"
        },
        "id": "f5LEaomEN-2B",
        "outputId": "0d24fbd5-d800-4725-9a15-3d012be755e5"
      },
      "source": [
        "import pandas as pd\n",
        "import numpy as np\n",
        "from google.colab import drive\n",
        "from sklearn.model_selection import train_test_split\n",
        "from sklearn.preprocessing import LabelEncoder\n",
        "\n",
        "drive.mount('/content/drive')\n",
        "dataset = pd.read_csv('/content/drive/My Drive/Colab Notebooks/prison_dataset.csv')\n",
        "\n",
        "# dataset.head()\n",
        "LE = LabelEncoder()\n",
        "\n",
        "for col in dataset.columns:\n",
        "  dataset[col] = LE.fit_transform(dataset[col])\n",
        "\n",
        "print(dataset)\n",
        "\n",
        "X = dataset.iloc[:, 0:10].values\n",
        "y = dataset.iloc[:, 10].values\n",
        "\n",
        "X_train, X_test, y_train, y_test = train_test_split(X, y, test_size=0.2, random_state=0)"
      ],
      "execution_count": 25,
      "outputs": [
        {
          "output_type": "stream",
          "name": "stdout",
          "text": [
            "Drive already mounted at /content/drive; to attempt to forcibly remount, call drive.mount(\"/content/drive\", force_remount=True).\n",
            "       Fiscal Year Released  ...  Recidivism - Return to Prison numeric\n",
            "0                         0  ...                                      1\n",
            "1                         0  ...                                      1\n",
            "2                         0  ...                                      1\n",
            "3                         0  ...                                      1\n",
            "4                         0  ...                                      1\n",
            "...                     ...  ...                                    ...\n",
            "15419                     2  ...                                      0\n",
            "15420                     2  ...                                      0\n",
            "15421                     2  ...                                      0\n",
            "15422                     2  ...                                      0\n",
            "15423                     2  ...                                      0\n",
            "\n",
            "[15424 rows x 11 columns]\n"
          ]
        }
      ]
    },
    {
      "cell_type": "markdown",
      "metadata": {
        "id": "ISBLL3jBPqlG"
      },
      "source": [
        "حال باید جنگل تصادفی را برای طبقه بندی آموزش دهیم"
      ]
    },
    {
      "cell_type": "code",
      "metadata": {
        "id": "TWB_GKMMPpAX"
      },
      "source": [
        "from sklearn.ensemble import RandomForestClassifier\n",
        "\n",
        "classifier = RandomForestClassifier(n_estimators=100,random_state=0,max_depth=3)\n",
        "classifier.fit(X_train, y_train)\n",
        "y_pred = classifier.predict(X_test)"
      ],
      "execution_count": 26,
      "outputs": []
    },
    {
      "cell_type": "markdown",
      "metadata": {
        "id": "Sd2Puc_zQFwF"
      },
      "source": [
        "محاسبه ماتریس آشفتگی و دقت الگوریتم"
      ]
    },
    {
      "cell_type": "code",
      "metadata": {
        "colab": {
          "base_uri": "https://localhost:8080/"
        },
        "id": "xzvO2iW4QLPW",
        "outputId": "2e780db7-45ba-45a8-fce2-997d5564e736"
      },
      "source": [
        "from sklearn.metrics import classification_report, confusion_matrix, accuracy_score\n",
        "\n",
        "print(confusion_matrix(y_test,y_pred))\n",
        "print(classification_report(y_test,y_pred))\n",
        "print(accuracy_score(y_test, y_pred))"
      ],
      "execution_count": 27,
      "outputs": [
        {
          "output_type": "stream",
          "name": "stdout",
          "text": [
            "[[1125  247]\n",
            " [ 652 1061]]\n",
            "              precision    recall  f1-score   support\n",
            "\n",
            "           0       0.63      0.82      0.71      1372\n",
            "           1       0.81      0.62      0.70      1713\n",
            "\n",
            "    accuracy                           0.71      3085\n",
            "   macro avg       0.72      0.72      0.71      3085\n",
            "weighted avg       0.73      0.71      0.71      3085\n",
            "\n",
            "0.7085899513776337\n"
          ]
        }
      ]
    }
  ]
}